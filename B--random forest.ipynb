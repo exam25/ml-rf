{
 "cells": [
  {
   "cell_type": "code",
   "execution_count": null,
   "id": "80e443ff",
   "metadata": {},
   "outputs": [],
   "source": [
    "from sklearn.model_selection import train_test_split\n",
    "from sklearn.ensemble import RandomForestClassifier\n",
    "from sklearn.tree import DecisionTreeClassifier\n",
    "from sklearn.metrics import accuracy_score, classification_report\n",
    "import pandas as pd\n",
    "from sklearn.impute import SimpleImputer\n",
    "\n",
    "dataset = pd.read_csv(\"dataset.csv\")\n",
    "dataset.dropna()\n",
    "\n",
    "s1_mapping = {\"itching\":1 , \"skin_rash\":2 , \" continuous_sneezing\":3 , \"shivering\":4 , \" stomach_pain\":5 , \"acidity\":6 , \"vomiting\":7 , \n",
    "              \"indigestion\":8 , \"fatigue\":9}\n",
    "s2_mapping = {\"itching\":1 , \"skin_rash\":2 , \" continuous_sneezing\":3 , \"shivering\":4 , \" stomach_pain\":5 , \"acidity\":6 , \"vomiting\":7 , \n",
    "              \"indigestion\":8 , \"fatigue\":9}\n",
    "s3_mapping = {\"itching\":1 , \"skin_rash\":2 , \" continuous_sneezing\":3 , \"shivering\":4 , \" stomach_pain\":5 , \"acidity\":6 , \"vomiting\":7 , \n",
    "              \"indigestion\":8 , \"fatigue\":9}\n",
    "dataset[\"Symptom_1\"] = dataset[\"Symptom_1\"].map(s1_mapping)\n",
    "dataset[\"Symptom_2\"] = dataset[\"Symptom_2\"].map(s2_mapping)\n",
    "dataset[\"Symptom_3\"] = dataset[\"Symptom_3\"].map(s3_mapping)\n",
    "\n",
    "cols_to_drop = [\"Disease\"]\n",
    "X = dataset.drop(cols_to_drop,axis=1)\n",
    "y = dataset[\"Disease\"]\n",
    "\n",
    "imputer = SimpleImputer(strategy='mean')\n",
    "X = imputer.fit_transform(X)\n",
    "\n",
    "X_train, X_test, y_train, y_test = train_test_split(X, y, test_size=0.2, random_state=42)\n",
    "\n",
    "dt_classifier = DecisionTreeClassifier(random_state=42)\n",
    "dt_classifier.fit(X_train, y_train)\n",
    "\n",
    "dt_predictions = dt_classifier.predict(X_test)\n",
    "\n",
    "print(\"Decision Tree Classifier Performance:\")\n",
    "print(\"Accuracy:\", accuracy_score(y_test, dt_predictions))\n",
    "print(\"Classification Report:\\n\", classification_report(y_test, dt_predictions))\n",
    "\n",
    "rf_classifier = RandomForestClassifier(random_state=42)\n",
    "rf_classifier.fit(X_train, y_train)\n",
    "\n",
    "rf_predictions = rf_classifier.predict(X_test)\n",
    "\n",
    "print(\"\\nRandom Forest Classifier Performance:\")\n",
    "print(\"Accuracy:\", accuracy_score(y_test, rf_predictions))\n",
    "print(\"Classification Report:\\n\", classification_report(y_test, rf_predictions))"
   ]
  },
  {
   "cell_type": "code",
   "execution_count": null,
   "id": "31a9d2de",
   "metadata": {},
   "outputs": [],
   "source": []
  }
 ],
 "metadata": {
  "kernelspec": {
   "display_name": "Python 3 (ipykernel)",
   "language": "python",
   "name": "python3"
  },
  "language_info": {
   "codemirror_mode": {
    "name": "ipython",
    "version": 3
   },
   "file_extension": ".py",
   "mimetype": "text/x-python",
   "name": "python",
   "nbconvert_exporter": "python",
   "pygments_lexer": "ipython3",
   "version": "3.11.4"
  }
 },
 "nbformat": 4,
 "nbformat_minor": 5
}
