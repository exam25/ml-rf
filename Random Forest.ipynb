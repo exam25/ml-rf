{
 "cells": [
  {
   "cell_type": "code",
   "execution_count": 151,
   "id": "c990b7ed-01da-401a-b3e2-f4604df38270",
   "metadata": {},
   "outputs": [],
   "source": [
    "import pandas as pd\n",
    "from sklearn.tree import DecisionTreeClassifier\n",
    "from sklearn.ensemble import RandomForestClassifier\n",
    "from sklearn.model_selection import train_test_split\n",
    "from sklearn.metrics import classification_report"
   ]
  },
  {
   "cell_type": "code",
   "execution_count": 59,
   "id": "d52f001d-cb23-4b64-af23-122c01d377e3",
   "metadata": {},
   "outputs": [
    {
     "data": {
      "text/html": [
       "<div>\n",
       "<style scoped>\n",
       "    .dataframe tbody tr th:only-of-type {\n",
       "        vertical-align: middle;\n",
       "    }\n",
       "\n",
       "    .dataframe tbody tr th {\n",
       "        vertical-align: top;\n",
       "    }\n",
       "\n",
       "    .dataframe thead th {\n",
       "        text-align: right;\n",
       "    }\n",
       "</style>\n",
       "<table border=\"1\" class=\"dataframe\">\n",
       "  <thead>\n",
       "    <tr style=\"text-align: right;\">\n",
       "      <th></th>\n",
       "      <th>Disease</th>\n",
       "      <th>Symptom_1</th>\n",
       "      <th>Symptom_2</th>\n",
       "      <th>Symptom_3</th>\n",
       "    </tr>\n",
       "  </thead>\n",
       "  <tbody>\n",
       "    <tr>\n",
       "      <th>0</th>\n",
       "      <td>Fungal infection</td>\n",
       "      <td>itching</td>\n",
       "      <td>skin_rash</td>\n",
       "      <td>vomiting</td>\n",
       "    </tr>\n",
       "    <tr>\n",
       "      <th>1</th>\n",
       "      <td>Fungal infection</td>\n",
       "      <td>skin_rash</td>\n",
       "      <td>skin_rash</td>\n",
       "      <td>vomiting</td>\n",
       "    </tr>\n",
       "    <tr>\n",
       "      <th>2</th>\n",
       "      <td>Fungal infection</td>\n",
       "      <td>itching</td>\n",
       "      <td>skin_rash</td>\n",
       "      <td>vomiting</td>\n",
       "    </tr>\n",
       "    <tr>\n",
       "      <th>3</th>\n",
       "      <td>Fungal infection</td>\n",
       "      <td>itching</td>\n",
       "      <td>skin_rash</td>\n",
       "      <td>vomiting</td>\n",
       "    </tr>\n",
       "    <tr>\n",
       "      <th>4</th>\n",
       "      <td>Fungal infection</td>\n",
       "      <td>itching</td>\n",
       "      <td>skin_rash</td>\n",
       "      <td>vomiting</td>\n",
       "    </tr>\n",
       "  </tbody>\n",
       "</table>\n",
       "</div>"
      ],
      "text/plain": [
       "            Disease   Symptom_1   Symptom_2  Symptom_3\n",
       "0  Fungal infection     itching   skin_rash   vomiting\n",
       "1  Fungal infection   skin_rash   skin_rash   vomiting\n",
       "2  Fungal infection     itching   skin_rash   vomiting\n",
       "3  Fungal infection     itching   skin_rash   vomiting\n",
       "4  Fungal infection     itching   skin_rash   vomiting"
      ]
     },
     "execution_count": 59,
     "metadata": {},
     "output_type": "execute_result"
    }
   ],
   "source": [
    "data = pd.read_csv('dataset.csv')\n",
    "data.head()"
   ]
  },
  {
   "cell_type": "code",
   "execution_count": 138,
   "id": "61e48dc7-1325-48da-9997-60eaa9edda96",
   "metadata": {},
   "outputs": [
    {
     "data": {
      "text/html": [
       "<div>\n",
       "<style scoped>\n",
       "    .dataframe tbody tr th:only-of-type {\n",
       "        vertical-align: middle;\n",
       "    }\n",
       "\n",
       "    .dataframe tbody tr th {\n",
       "        vertical-align: top;\n",
       "    }\n",
       "\n",
       "    .dataframe thead th {\n",
       "        text-align: right;\n",
       "    }\n",
       "</style>\n",
       "<table border=\"1\" class=\"dataframe\">\n",
       "  <thead>\n",
       "    <tr style=\"text-align: right;\">\n",
       "      <th></th>\n",
       "      <th>Index</th>\n",
       "      <th>itching</th>\n",
       "      <th>skin_rash</th>\n",
       "      <th>continuous_sneezing</th>\n",
       "      <th>shivering</th>\n",
       "      <th>stomach_pain</th>\n",
       "      <th>acidity</th>\n",
       "      <th>vomiting</th>\n",
       "      <th>indigestion</th>\n",
       "      <th>muscle_wasting</th>\n",
       "      <th>fatigue</th>\n",
       "      <th>Disease</th>\n",
       "    </tr>\n",
       "  </thead>\n",
       "  <tbody>\n",
       "  </tbody>\n",
       "</table>\n",
       "</div>"
      ],
      "text/plain": [
       "Empty DataFrame\n",
       "Columns: [Index, itching, skin_rash, continuous_sneezing, shivering, stomach_pain, acidity, vomiting, indigestion, muscle_wasting, fatigue, Disease]\n",
       "Index: []"
      ]
     },
     "execution_count": 138,
     "metadata": {},
     "output_type": "execute_result"
    }
   ],
   "source": [
    "val = {'itching' : 0, \n",
    "       'skin_rash' : 1, \n",
    "       'continuous_sneezing' : 2, \n",
    "       'shivering' : 3, \n",
    "       'stomach_pain' : 4, \n",
    "       'acidity' : 5, \n",
    "       'vomiting' : 6, \n",
    "       'indigestion' : 7,  \n",
    "       'muscle_wasting' : 8, \n",
    "       'indigestion' : 9, \n",
    "       'fatigue' : 10}\n",
    "\n",
    "df = pd.DataFrame(columns=['Index']+list(val.keys())+['Disease'])\n",
    "df.head()"
   ]
  },
  {
   "cell_type": "code",
   "execution_count": 142,
   "id": "7fec6683-9920-4151-bf2b-28ca091ff472",
   "metadata": {},
   "outputs": [],
   "source": [
    "for row in range(data.shape[0]):\n",
    "    new_row = pd.Series([False] * len(df.columns), index=df.columns)\n",
    "    new_row['Index'] = row\n",
    "    new_row['Disease'] = data.iloc[row]['Disease']\n",
    "    new_row[data.iloc[row]['Symptom_1'].strip()] = True\n",
    "    new_row[data.iloc[row]['Symptom_2'].strip()] = True\n",
    "    new_row[data.iloc[row]['Symptom_3'].strip()] = True\n",
    "\n",
    "    df = pd.concat([df, new_row.to_frame().T], ignore_index=True)"
   ]
  },
  {
   "cell_type": "code",
   "execution_count": 204,
   "id": "2afdd55c-436d-4917-b017-78afc90d6e89",
   "metadata": {},
   "outputs": [
    {
     "name": "stdout",
     "output_type": "stream",
     "text": [
      "                     precision    recall  f1-score   support\n",
      "\n",
      "               AIDS       1.00      1.00      1.00         3\n",
      "            Allergy       1.00      1.00      1.00         1\n",
      "   Bronchial Asthma       0.33      1.00      0.50         1\n",
      "Chronic cholestasis       1.00      1.00      1.00         2\n",
      "          Diabetes        1.00      0.33      0.50         3\n",
      "      Drug Reaction       1.00      1.00      1.00         3\n",
      "   Fungal infection       1.00      1.00      1.00         1\n",
      "               GERD       1.00      1.00      1.00         2\n",
      "    Gastroenteritis       1.00      1.00      1.00         4\n",
      "\n",
      "           accuracy                           0.90        20\n",
      "          macro avg       0.93      0.93      0.89        20\n",
      "       weighted avg       0.97      0.90      0.90        20\n",
      "\n"
     ]
    }
   ],
   "source": [
    "x = df.drop(['Index','Disease'], axis=1)\n",
    "y = df['Disease']\n",
    "\n",
    "x1, x2, y1, y2 = train_test_split(x, y, test_size = 0.2)\n",
    "\n",
    "model = RandomForestClassifier(random_state=42).fit(x1, y1)\n",
    "print(classification_report(y2, model.predict(x2)))"
   ]
  },
  {
   "cell_type": "code",
   "execution_count": 214,
   "id": "e9d992f5-246f-471a-a5e6-db8844fd1d92",
   "metadata": {},
   "outputs": [
    {
     "name": "stdout",
     "output_type": "stream",
     "text": [
      "                     precision    recall  f1-score   support\n",
      "\n",
      "               AIDS       0.50      1.00      0.67         1\n",
      "            Allergy       1.00      1.00      1.00         4\n",
      "   Bronchial Asthma       0.57      1.00      0.73         4\n",
      "Chronic cholestasis       0.00      0.00      0.00         6\n",
      "          Diabetes        0.00      0.00      0.00         3\n",
      "      Drug Reaction       1.00      0.67      0.80         3\n",
      "   Fungal infection       1.00      1.00      1.00         4\n",
      "               GERD       1.00      1.00      1.00         2\n",
      "    Gastroenteritis       1.00      1.00      1.00         1\n",
      "Peptic ulcer diseae       0.25      1.00      0.40         2\n",
      "\n",
      "           accuracy                           0.67        30\n",
      "          macro avg       0.63      0.77      0.66        30\n",
      "       weighted avg       0.58      0.67      0.59        30\n",
      "\n"
     ]
    },
    {
     "name": "stderr",
     "output_type": "stream",
     "text": [
      "C:\\Users\\kaust\\AppData\\Local\\Programs\\Python\\Python311\\Lib\\site-packages\\sklearn\\metrics\\_classification.py:1469: UndefinedMetricWarning: Precision and F-score are ill-defined and being set to 0.0 in labels with no predicted samples. Use `zero_division` parameter to control this behavior.\n",
      "  _warn_prf(average, modifier, msg_start, len(result))\n",
      "C:\\Users\\kaust\\AppData\\Local\\Programs\\Python\\Python311\\Lib\\site-packages\\sklearn\\metrics\\_classification.py:1469: UndefinedMetricWarning: Precision and F-score are ill-defined and being set to 0.0 in labels with no predicted samples. Use `zero_division` parameter to control this behavior.\n",
      "  _warn_prf(average, modifier, msg_start, len(result))\n",
      "C:\\Users\\kaust\\AppData\\Local\\Programs\\Python\\Python311\\Lib\\site-packages\\sklearn\\metrics\\_classification.py:1469: UndefinedMetricWarning: Precision and F-score are ill-defined and being set to 0.0 in labels with no predicted samples. Use `zero_division` parameter to control this behavior.\n",
      "  _warn_prf(average, modifier, msg_start, len(result))\n"
     ]
    }
   ],
   "source": [
    "x = df.drop(['Index','Disease'], axis=1)\n",
    "y = df['Disease']\n",
    "\n",
    "x1, x2, y1, y2 = train_test_split(x, y, test_size = 0.3)\n",
    "\n",
    "model = DecisionTreeClassifier().fit(x1, y1)\n",
    "print(classification_report(y2, model.predict(x2)))"
   ]
  },
  {
   "cell_type": "code",
   "execution_count": 215,
   "id": "b861a943-2791-4895-b1ba-a7ce83a2c47c",
   "metadata": {},
   "outputs": [
    {
     "name": "stdout",
     "output_type": "stream",
     "text": [
      "|--- acidity <= 0.50\n",
      "|   |--- vomiting <= 0.50\n",
      "|   |   |--- itching <= 0.50\n",
      "|   |   |   |--- fatigue <= 0.50\n",
      "|   |   |   |   |--- muscle_wasting <= 0.50\n",
      "|   |   |   |   |   |--- class: AIDS\n",
      "|   |   |   |   |--- muscle_wasting >  0.50\n",
      "|   |   |   |   |   |--- class: AIDS\n",
      "|   |   |   |--- fatigue >  0.50\n",
      "|   |   |   |   |--- continuous_sneezing <= 0.50\n",
      "|   |   |   |   |   |--- class: Diabetes \n",
      "|   |   |   |   |--- continuous_sneezing >  0.50\n",
      "|   |   |   |   |   |--- class: Bronchial Asthma\n",
      "|   |   |--- itching >  0.50\n",
      "|   |   |   |--- class: Drug Reaction\n",
      "|   |--- vomiting >  0.50\n",
      "|   |   |--- stomach_pain <= 0.50\n",
      "|   |   |   |--- indigestion <= 0.50\n",
      "|   |   |   |   |--- skin_rash <= 0.50\n",
      "|   |   |   |   |   |--- class: Chronic cholestasis\n",
      "|   |   |   |   |--- skin_rash >  0.50\n",
      "|   |   |   |   |   |--- continuous_sneezing <= 0.50\n",
      "|   |   |   |   |   |   |--- shivering <= 0.50\n",
      "|   |   |   |   |   |   |   |--- class: Fungal infection\n",
      "|   |   |   |   |   |   |--- shivering >  0.50\n",
      "|   |   |   |   |   |   |   |--- class: Allergy\n",
      "|   |   |   |   |   |--- continuous_sneezing >  0.50\n",
      "|   |   |   |   |   |   |--- class: Allergy\n",
      "|   |   |   |--- indigestion >  0.50\n",
      "|   |   |   |   |--- class: Gastroenteritis\n",
      "|   |   |--- stomach_pain >  0.50\n",
      "|   |   |   |--- class: Peptic ulcer diseae\n",
      "|--- acidity >  0.50\n",
      "|   |--- class: GERD\n",
      "\n"
     ]
    }
   ],
   "source": [
    "print(sklearn.tree.export_text(model, feature_names=x.columns))"
   ]
  },
  {
   "cell_type": "code",
   "execution_count": 174,
   "id": "da1a4ff0-7d69-42e5-83ea-2f565d4fff7e",
   "metadata": {},
   "outputs": [
    {
     "name": "stdout",
     "output_type": "stream",
     "text": [
      "Help on function export_text in module sklearn.tree._export:\n",
      "\n",
      "export_text(decision_tree, *, feature_names=None, class_names=None, max_depth=10, spacing=3, decimals=2, show_weights=False)\n",
      "    Build a text report showing the rules of a decision tree.\n",
      "    \n",
      "    Note that backwards compatibility may not be supported.\n",
      "    \n",
      "    Parameters\n",
      "    ----------\n",
      "    decision_tree : object\n",
      "        The decision tree estimator to be exported.\n",
      "        It can be an instance of\n",
      "        DecisionTreeClassifier or DecisionTreeRegressor.\n",
      "    \n",
      "    feature_names : array-like of shape (n_features,), default=None\n",
      "        An array containing the feature names.\n",
      "        If None generic names will be used (\"feature_0\", \"feature_1\", ...).\n",
      "    \n",
      "    class_names : array-like of shape (n_classes,), default=None\n",
      "        Names of each of the target classes in ascending numerical order.\n",
      "        Only relevant for classification and not supported for multi-output.\n",
      "    \n",
      "        - if `None`, the class names are delegated to `decision_tree.classes_`;\n",
      "        - otherwise, `class_names` will be used as class names instead of\n",
      "          `decision_tree.classes_`. The length of `class_names` must match\n",
      "          the length of `decision_tree.classes_`.\n",
      "    \n",
      "        .. versionadded:: 1.3\n",
      "    \n",
      "    max_depth : int, default=10\n",
      "        Only the first max_depth levels of the tree are exported.\n",
      "        Truncated branches will be marked with \"...\".\n",
      "    \n",
      "    spacing : int, default=3\n",
      "        Number of spaces between edges. The higher it is, the wider the result.\n",
      "    \n",
      "    decimals : int, default=2\n",
      "        Number of decimal digits to display.\n",
      "    \n",
      "    show_weights : bool, default=False\n",
      "        If true the classification weights will be exported on each leaf.\n",
      "        The classification weights are the number of samples each class.\n",
      "    \n",
      "    Returns\n",
      "    -------\n",
      "    report : str\n",
      "        Text summary of all the rules in the decision tree.\n",
      "    \n",
      "    Examples\n",
      "    --------\n",
      "    \n",
      "    >>> from sklearn.datasets import load_iris\n",
      "    >>> from sklearn.tree import DecisionTreeClassifier\n",
      "    >>> from sklearn.tree import export_text\n",
      "    >>> iris = load_iris()\n",
      "    >>> X = iris['data']\n",
      "    >>> y = iris['target']\n",
      "    >>> decision_tree = DecisionTreeClassifier(random_state=0, max_depth=2)\n",
      "    >>> decision_tree = decision_tree.fit(X, y)\n",
      "    >>> r = export_text(decision_tree, feature_names=iris['feature_names'])\n",
      "    >>> print(r)\n",
      "    |--- petal width (cm) <= 0.80\n",
      "    |   |--- class: 0\n",
      "    |--- petal width (cm) >  0.80\n",
      "    |   |--- petal width (cm) <= 1.75\n",
      "    |   |   |--- class: 1\n",
      "    |   |--- petal width (cm) >  1.75\n",
      "    |   |   |--- class: 2\n",
      "\n"
     ]
    }
   ],
   "source": [
    "import sklearn\n",
    "help(sklearn.tree.export_text)"
   ]
  }
 ],
 "metadata": {
  "kernelspec": {
   "display_name": "Python 3 (ipykernel)",
   "language": "python",
   "name": "python3"
  },
  "language_info": {
   "codemirror_mode": {
    "name": "ipython",
    "version": 3
   },
   "file_extension": ".py",
   "mimetype": "text/x-python",
   "name": "python",
   "nbconvert_exporter": "python",
   "pygments_lexer": "ipython3",
   "version": "3.11.4"
  }
 },
 "nbformat": 4,
 "nbformat_minor": 5
}
